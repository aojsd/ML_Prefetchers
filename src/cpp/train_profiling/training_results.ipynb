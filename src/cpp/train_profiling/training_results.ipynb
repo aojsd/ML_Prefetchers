{
 "cells": [
  {
   "attachments": {},
   "cell_type": "markdown",
   "metadata": {},
   "source": [
    "## Training Profiling of LSTM Prefetcher"
   ]
  },
  {
   "cell_type": "code",
   "execution_count": 7,
   "metadata": {},
   "outputs": [],
   "source": [
    "import os\n",
    "import torch\n",
    "import numpy as np\n",
    "import matplotlib\n",
    "from matplotlib import pyplot as plt\n",
    "from matplotlib.ticker import ScalarFormatter\n",
    "matplotlib.rcParams.update({'font.size': 14})\n",
    "\n",
    "batch_sizes = [1, 8, 64, 512]\n",
    "threads = [1, 2, 4, 8]\n",
    "plot_colors = ['b', 'r+', 'k.', 'y']\n",
    "\n",
    "def plot_err(y_dats, y_err, yticks=None):\n",
    "    # f, ax = plt.subplots()\n",
    "    for y, e, l, c in zip(y_dats, y_err, threads[:len(y_dats)], plot_colors[:len(y_dats)]):\n",
    "        if l == 1:\n",
    "            label = \"DNN FP32\"\n",
    "        else:\n",
    "            label = \"DNN FP32 \" + str(l) + \"T\"\n",
    "        ax.plot(batch_sizes, y, c , label=label)\n",
    "\n",
    "def sv_fig(title, fname):\n",
    "    plt.xlabel(\"Batch Size\")\n",
    "    plt.ylabel(\"Latency (\\u03BCs)\")\n",
    "    plt.savefig(\"figs/\" + fname, bbox_inches=\"tight\")\n",
    "    plt.show()\n",
    "\n",
    "def get_data(fname):\n",
    "    f = open(fname, 'r')\n",
    "    data = np.array([float(l) for l in f.readlines()])\n",
    "    f.close()\n",
    "    return data\n",
    "\n",
    "def get_dat_dir(dirname):\n",
    "    data = []\n",
    "    dir = os.fsencode(dirname)\n",
    "    flist = os.listdir(dir)\n",
    "    flist.sort(key=lambda x: os.stat(os.path.join(dir, x)).st_mtime)\n",
    "    for f in flist:\n",
    "        fname = dirname + \"/\" + os.fsdecode(f)\n",
    "        data.append(get_data(fname))\n",
    "    return data"
   ]
  },
  {
   "attachments": {},
   "cell_type": "markdown",
   "metadata": {},
   "source": [
    "### 1) 2.5k classes, 32 hidden dimensions, 32 embedding dimensions"
   ]
  },
  {
   "cell_type": "code",
   "execution_count": 8,
   "metadata": {},
   "outputs": [],
   "source": [
    "dt1 = get_dat_dir(\"data/2p5k_EH32/t1\")\n",
    "dt2 = get_dat_dir(\"data/2p5k_EH32/t2\")\n",
    "data = [dt1, dt2]\n",
    "data = [dt1]"
   ]
  },
  {
   "cell_type": "code",
   "execution_count": 12,
   "metadata": {},
   "outputs": [
    {
     "data": {
      "image/png": "[encoded data removed]",
      "text/plain": [
       "<Figure size 432x266.4 with 1 Axes>"
      ]
     },
     "metadata": {
      "needs_background": "light"
     },
     "output_type": "display_data"
    }
   ],
   "source": [
    "import matplotlib\n",
    "import math\n",
    "\n",
    "ydat = [[d.mean() for d in dt] for dt in data]\n",
    "yerr = [[d.std() for d in dt] for dt in data]\n",
    "\n",
    "cdat = torch.tensor([20.213, 19.996, 19.305, 17.986, 20.166])\n",
    "cavg = cdat.mean()\n",
    "cstd = cdat.std()\n",
    "cplot = (torch.tensor([1,2,4,8]) * cavg).tolist()\n",
    "cerr = (torch.tensor([1,2,4,8]) * cstd).tolist()\n",
    "\n",
    "f, ax = plt.subplots(figsize=(6,3.7))\n",
    "\n",
    "yticks=[10, 100, 1001, 10000, 100000]\n",
    "min_ticks = [25, 50, 75, 250, 500, 750, 2500, 5000, 7500, 25000, 50000, 75000]\n",
    "ax.set_ylim([10,1e5])\n",
    "ax.set_yscale('log', base=10)\n",
    "ax.set_yticks(yticks) # Grid\n",
    "ax.set_yticks(min_ticks, minor=True)\n",
    "ax.get_yaxis().set_major_formatter(matplotlib.ticker.FuncFormatter(lambda v,_: (\"$10^{%d}$\" % math.log(v,10)) ))\n",
    "ax.set_xticks([0, 100, 200, 300, 400, 500])\n",
    "ax.set_xlim([-20,530])\n",
    "ax.grid(which='both')\n",
    "\n",
    "# ax.plot(batch_sizes, cplot, color=\"m\", label=\"Hebb INT32\")\n",
    "\n",
    "plot_err(ydat, yerr)\n",
    "# plt.legend(loc=(1.01, 0), framealpha=1)\n",
    "plt.rc('legend', fontsize=10) \n",
    "plt.legend(loc=\"lower right\", framealpha=1)\n",
    "\n",
    "sv_fig(\"Training Time for Learning Models\", \"training_lat.svg\")"
   ]
  },
  {
   "attachments": {},
   "cell_type": "markdown",
   "metadata": {},
   "source": [
    "### 2) 10k classes, 32 hidden dimensions, 32 embedding dimensions"
   ]
  },
  {
   "cell_type": "code",
   "execution_count": 10,
   "metadata": {},
   "outputs": [],
   "source": [
    "# dt1 = get_dat_dir(\"data/10k_EH32/t1\")\n",
    "# dt2 = get_dat_dir(\"data/10k_EH32/t2\")\n",
    "# dt4 = get_dat_dir(\"data/10k_EH32/t4\")\n",
    "# data = [dt1, dt2, dt4]\n",
    "\n",
    "# ydat = [[d.mean() for d in dt] for dt in data]\n",
    "# yerr = [[d.std() for d in dt] for dt in data]\n",
    "# plot_err(ydat, yerr, \"Training Time for C=10k, E=H=32\",\n",
    "#     \"10k_EH32_train.jpeg\")"
   ]
  },
  {
   "attachments": {},
   "cell_type": "markdown",
   "metadata": {},
   "source": [
    "### 3) 20k classes, 256 hidden dimensions, 256 embedding dimensions"
   ]
  },
  {
   "cell_type": "code",
   "execution_count": 11,
   "metadata": {},
   "outputs": [],
   "source": [
    "# dt1 = get_dat_dir(\"data/20k_EH256/t1\")\n",
    "# dt2 = get_dat_dir(\"data/20k_EH256/t2\")\n",
    "# dt4 = get_dat_dir(\"data/20k_EH256/t4\")\n",
    "# data = [dt1, dt2, dt4]\n",
    "\n",
    "# ydat = [[d.mean() for d in dt] for dt in data]\n",
    "# yerr = [[d.std() for d in dt] for dt in data]\n",
    "# yerr[0][3] /= 100\n",
    "# plot_err(ydat, yerr, \"Training Time for C=20k, E=H=256\",\n",
    "#     \"20k_EH256_train.jpeg\")"
   ]
  }
 ],
 "metadata": {
  "kernelspec": {
   "display_name": "Python 3 (ipykernel)",
   "language": "python",
   "name": "python3"
  },
  "language_info": {
   "codemirror_mode": {
    "name": "ipython",
    "version": 3
   },
   "file_extension": ".py",
   "mimetype": "text/x-python",
   "name": "python",
   "nbconvert_exporter": "python",
   "pygments_lexer": "ipython3",
   "version": "3.10.11"
  },
  "orig_nbformat": 4,
  "vscode": {
   "interpreter": {
    "hash": "767d51c1340bd893661ea55ea3124f6de3c7a262a8b4abca0554b478b1e2ff90"
   }
  }
 },
 "nbformat": 4,
 "nbformat_minor": 2
}
