{
 "cells": [
  {
   "attachments": {},
   "cell_type": "markdown",
   "metadata": {},
   "source": [
    "## Inference Profiling of LSTM Prefetcher"
   ]
  },
  {
   "cell_type": "code",
   "execution_count": 24,
   "metadata": {},
   "outputs": [],
   "source": [
    "import os\n",
    "import math\n",
    "import torch\n",
    "import numpy as np\n",
    "import matplotlib\n",
    "from matplotlib import pyplot as plt\n",
    "from matplotlib.ticker import ScalarFormatter\n",
    "matplotlib.rcParams.update({'font.size': 14})\n",
    "\n",
    "prediction_sizes = [1, 2, 4, 8]\n",
    "threads = [1, 2, 4, 8]\n",
    "plot_colors = ['b', 'r+', '#7CFA6D', 'k+']\n",
    "\n",
    "def plot_err(y_dats, y_err, l_base, yticks=None, col_off=0):\n",
    "    # f, ax = plt.subplots()\n",
    "    for y, e, l, c in zip(y_dats, y_err, threads[:len(y_dats)], plot_colors[col_off: col_off+len(y_dats)]):\n",
    "        if l == 1:\n",
    "            # label = l_base + \" - 1 Thread\"\n",
    "            label = l_base + \"\"\n",
    "        else:\n",
    "            # label = l_base + \" - \" + str(l) + \" Threads\"\n",
    "            label = l_base + \" \" + str(l) + \"T\"\n",
    "        ax.plot(prediction_sizes, y, c, label=label)\n",
    "\n",
    "def sv_fig(title, fname):\n",
    "    # plt.title(title)\n",
    "    plt.savefig(\"figs/\" + fname, bbox_inches=\"tight\")\n",
    "    plt.show()\n",
    "\n",
    "def get_data(fname):\n",
    "    f = open(fname, 'r')\n",
    "    data = np.array([float(l) for l in f.readlines()])\n",
    "    f.close()\n",
    "    return data\n",
    "\n",
    "def get_dat_dir(dirname):\n",
    "    data = []\n",
    "    dir = os.fsencode(dirname)\n",
    "    flist = os.listdir(dir)\n",
    "    flist.sort(key=lambda x: os.stat(os.path.join(dir, x)).st_mtime)\n",
    "    for f in flist:\n",
    "        fname = dirname + \"/\" + os.fsdecode(f)\n",
    "        data.append(get_data(fname))\n",
    "    return data"
   ]
  },
  {
   "attachments": {},
   "cell_type": "markdown",
   "metadata": {},
   "source": [
    "### 1) 2.5k classes, 32 hidden dimensions, 32 embedding dimensions"
   ]
  },
  {
   "cell_type": "code",
   "execution_count": 25,
   "metadata": {},
   "outputs": [],
   "source": [
    "dt1 = get_dat_dir(\"data/2p5k_EH32/t1\")\n",
    "dt2 = get_dat_dir(\"data/2p5k_EH32/t2\")\n",
    "dt4 = get_dat_dir(\"data/2p5k_EH32/t4\")\n",
    "data = [dt1, dt2]\n",
    "data = [dt1]\n",
    "\n",
    "qt1 = get_dat_dir(\"data/q_2p5/t1\")\n",
    "qt2 = get_dat_dir(\"data/q_2p5/t2\")\n",
    "qt4 = get_dat_dir(\"data/q_2p5/t4\")\n",
    "qdata = [qt1, qt2]\n",
    "qdata = [qt1]"
   ]
  },
  {
   "cell_type": "code",
   "execution_count": 30,
   "metadata": {},
   "outputs": [
    {
     "data": {
      "image/png": "[encoded data removed]",
      "text/plain": [
       "<Figure size 432x266.4 with 1 Axes>"
      ]
     },
     "metadata": {
      "needs_background": "light"
     },
     "output_type": "display_data"
    }
   ],
   "source": [
    "ydat = [[d.mean() for d in dt] for dt in data]\n",
    "yerr = [[d.std() for d in dt] for dt in data]\n",
    "\n",
    "cdat = torch.tensor([8.374, 8.389, 8.519, 8.278, 8.555])\n",
    "cavg = cdat.mean()\n",
    "cstd = cdat.std()\n",
    "cplot = (torch.tensor([1,2,4,8]) * cavg).tolist()\n",
    "cerr = (torch.tensor([1,2,4,8]) * cstd).tolist()\n",
    "\n",
    "qdat = [[d.mean() for d in dt] for dt in qdata]\n",
    "qerr = [[d.std() for d in dt] for dt in qdata]\n",
    "\n",
    "yticks=[1, 10, 100, 1001]\n",
    "min_ticks = [2.5, 5, 7.5, 25, 50, 75, 250, 500, 750, 2500, 5000]\n",
    "\n",
    "fig, ax = plt.subplots(figsize=(6,3.7))\n",
    "# ax = fig.add_subplot(1,1,1)\n",
    "ax.plot(prediction_sizes, cplot, color=\"m\", label=\"Hebb INT32\")\n",
    "ax.set_xlabel(\"Number of Predictions Made\")\n",
    "ax.set_ylabel(\"Latency (\\u03BCs)\")\n",
    "\n",
    "plot_err(ydat, yerr, \"DNN FP32\", yticks=yticks)\n",
    "plot_err(qdat, qerr, \"DNN INT8\", col_off=2, yticks=yticks)\n",
    "ax.set_ylim([1,5e3])\n",
    "ax.set_yscale('log', base=10)\n",
    "ax.set_yticks(yticks) # Grid\n",
    "ax.set_yticks(min_ticks, minor=True)\n",
    "ax.set_xticks([2, 4, 6, 8])\n",
    "ax.set_xlim([0.5,8.5])\n",
    "ax.get_yaxis().set_major_formatter(matplotlib.ticker.FuncFormatter(lambda v,_: (\"$10^{%d}$\" % math.log(v,10)) ))\n",
    "ax.grid(which='both')\n",
    "# ax.legend(loc=(1.01, 0), framealpha=1)\n",
    "plt.rc('legend', fontsize=10) \n",
    "plt.legend(loc=\"lower right\", framealpha=1)\n",
    "sv_fig(\"Inference Time for Learning Models\", \"inference_lat.svg\")"
   ]
  },
  {
   "attachments": {},
   "cell_type": "markdown",
   "metadata": {},
   "source": [
    "### 2) 10k classes, 32 hidden dimensions, 32 embedding dimensions"
   ]
  },
  {
   "cell_type": "code",
   "execution_count": 27,
   "metadata": {},
   "outputs": [],
   "source": [
    "# dt1 = get_dat_dir(\"data/10k_EH32/t1\")\n",
    "# dt2 = get_dat_dir(\"data/10k_EH32/t2\")\n",
    "# dt4 = get_dat_dir(\"data/10k_EH32/t4\")\n",
    "# dt8 = get_dat_dir(\"data/10k_EH32/t8\")\n",
    "# data = [dt1, dt2, dt4, dt8]\n",
    "\n",
    "# ydat = [[d.mean() for d in dt] for dt in data]\n",
    "# yerr = [[d.std() for d in dt] for dt in data]\n",
    "# plot_err(ydat, yerr, \"Inference Time for C=10k, E=H=32\",\n",
    "#     \"10k_EH32_inf.jpeg\")"
   ]
  },
  {
   "attachments": {},
   "cell_type": "markdown",
   "metadata": {},
   "source": [
    "### 3) 20k classes, 256 hidden dimensions, 256 embedding dimensions"
   ]
  },
  {
   "cell_type": "code",
   "execution_count": 28,
   "metadata": {},
   "outputs": [],
   "source": [
    "# dt1 = get_dat_dir(\"data/20k_EH256/t1\")\n",
    "# dt2 = get_dat_dir(\"data/20k_EH256/t2\")\n",
    "# dt4 = get_dat_dir(\"data/20k_EH256/t4\")\n",
    "# dt8 = get_dat_dir(\"data/20k_EH256/t8\")\n",
    "# data = [dt1, dt2, dt4, dt8]\n",
    "\n",
    "# ydat = [[d.mean() for d in dt] for dt in data]\n",
    "# yerr = [[d.std() for d in dt] for dt in data]\n",
    "# yerr[0][3] /= 100\n",
    "# plot_err(ydat, yerr, \"Inference Time for C=20k, E=H=256\",\n",
    "#     \"20k_EH256_inf.jpeg\")"
   ]
  },
  {
   "cell_type": "code",
   "execution_count": 29,
   "metadata": {},
   "outputs": [],
   "source": [
    "# from matplotlib import pyplot as plt\n",
    "# import matplotlib.ticker\n",
    "\n",
    "# fig1, ax1 = plt.subplots()\n",
    "# ax1.plot([10, 100, 1000], [1,2,3])\n",
    "# ax1.set_yscale('log')\n",
    "# ax1.set_yticks([20, 300, 500])\n",
    "# ax1.get_yaxis().set_major_formatter(matplotlib.ticker.ScalarFormatter())\n",
    "# plt.show()"
   ]
  }
 ],
 "metadata": {
  "kernelspec": {
   "display_name": "Python 3.10.5 64-bit",
   "language": "python",
   "name": "python3"
  },
  "language_info": {
   "codemirror_mode": {
    "name": "ipython",
    "version": 3
   },
   "file_extension": ".py",
   "mimetype": "text/x-python",
   "name": "python",
   "nbconvert_exporter": "python",
   "pygments_lexer": "ipython3",
   "version": "3.10.11"
  },
  "orig_nbformat": 4,
  "vscode": {
   "interpreter": {
    "hash": "767d51c1340bd893661ea55ea3124f6de3c7a262a8b4abca0554b478b1e2ff90"
   }
  }
 },
 "nbformat": 4,
 "nbformat_minor": 2
}
